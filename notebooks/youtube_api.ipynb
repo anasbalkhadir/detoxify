{
 "cells": [
  {
   "cell_type": "code",
   "execution_count": 20,
   "metadata": {},
   "outputs": [],
   "source": [
    "import httplib2\n",
    "import os\n",
    "import sys\n",
    "import csv\n",
    "\n",
    "from apiclient.discovery import build_from_document\n",
    "from apiclient.errors import HttpError\n",
    "from oauth2client.client import flow_from_clientsecrets\n",
    "from oauth2client.file import Storage\n",
    "from oauth2client.tools import argparser, run_flow\n",
    "\n",
    "from tqdm import tqdm_notebook as tqdm"
   ]
  },
  {
   "cell_type": "code",
   "execution_count": 21,
   "metadata": {},
   "outputs": [],
   "source": [
    "CLIENT_SECRETS_FILE = \"client_secrets.json\"\n",
    "\n",
    "YOUTUBE_READ_WRITE_SSL_SCOPE = \"https://www.googleapis.com/auth/youtube.force-ssl\"\n",
    "YOUTUBE_API_SERVICE_NAME = \"youtube\"\n",
    "YOUTUBE_API_VERSION = \"v3\"\n",
    "MISSING_CLIENT_SECRETS_MESSAGE = \"JUST 42\""
   ]
  },
  {
   "cell_type": "code",
   "execution_count": 22,
   "metadata": {},
   "outputs": [],
   "source": [
    "def get_statistics_views(youtube,video_id):\n",
    "    \n",
    "    response = youtube.videos().list(part='statistics, snippet',id=video_id).execute()\n",
    "    \n",
    "    info = {'channelId': response['items'][0]['snippet']['channelId'], \n",
    "            'title': response['items'][0]['snippet']['title'], \n",
    "            'description': response['items'][0]['snippet']['description'],            \n",
    "            'tags': response['items'][0]['snippet']['tags'],\n",
    "            'categoryId': response['items'][0]['snippet']['categoryId'],\n",
    "            'defaultLanguage': response['items'][0]['snippet']['defaultLanguage'],\n",
    "            \n",
    "            'viewCount': response['items'][0]['statistics']['viewCount'],\n",
    "            'likeCount': response['items'][0]['statistics']['likeCount'],\n",
    "            'dislikeCount': response['items'][0]['statistics']['dislikeCount'],\n",
    "            'favoriteCount': response['items'][0]['statistics']['favoriteCount'],\n",
    "            'commentCount': response['items'][0]['statistics']['commentCount']}     \n",
    "    return info"
   ]
  },
  {
   "cell_type": "code",
   "execution_count": 23,
   "metadata": {},
   "outputs": [],
   "source": [
    "def get_comments_with_replies(youtube, video_id, token=\"\", thread_id=1):\n",
    "    \n",
    "    results = youtube.commentThreads().list(\n",
    "        part=\"snippet\",\n",
    "        pageToken=token,\n",
    "        videoId=video_id,\n",
    "        textFormat=\"plainText\",\n",
    "        maxResults=100\n",
    "    ).execute()\n",
    "    \n",
    "    comments = []\n",
    "    \n",
    "    for item in results[\"items\"]:\n",
    "        \n",
    "        comment = item[\"snippet\"][\"topLevelComment\"]\n",
    "        text = comment[\"snippet\"][\"textDisplay\"]\n",
    "        \n",
    "        like_count = comment[\"snippet\"][\"likeCount\"]\n",
    "        reply_count = item[\"snippet\"][\"totalReplyCount\"]\n",
    "        \n",
    "        entry = {'text': text, 'parent': True, 'cid': thread_id, \n",
    "                 'like_count': like_count, 'reply_count': reply_count}\n",
    "        \n",
    "        comments.append(entry)\n",
    "        \n",
    "        if reply_count:\n",
    "            parentId = item[\"snippet\"][\"topLevelComment\"][\"id\"]\n",
    "            replies = get_replies(parentId, thread_id, children=[], token='')\n",
    "            comments = comments + replies\n",
    "        \n",
    "        thread_id += 1      \n",
    "    \n",
    "    token = results[\"nextPageToken\"] if \"nextPageToken\" in results else 0\n",
    "\n",
    "    return comments, thread_id, token"
   ]
  },
  {
   "cell_type": "code",
   "execution_count": 24,
   "metadata": {},
   "outputs": [],
   "source": [
    "def get_replies(parentId, thread_id, children=[], token=''):\n",
    "        \n",
    "    results = youtube.comments().list(\n",
    "        part=\"snippet\",\n",
    "        pageToken=token,\n",
    "        parentId=parentId,\n",
    "        maxResults=100\n",
    "    ).execute()\n",
    "        \n",
    "    for item in results[\"items\"]:\n",
    "        \n",
    "        text = item[\"snippet\"][\"textDisplay\"]      \n",
    "        like_count = item['snippet']['likeCount']\n",
    "        \n",
    "        entry = {'text': text, 'parent': False, 'cid': thread_id, \n",
    "                 'like_count': like_count, 'reply_count': 0}\n",
    "        \n",
    "        children.append(entry)\n",
    "    \n",
    "    if \"nextPageToken\" in results:\n",
    "        return get_replies(parentId, thread_id, children, results[\"nextPageToken\"])\n",
    "    else:\n",
    "        return children"
   ]
  },
  {
   "cell_type": "code",
   "execution_count": 25,
   "metadata": {},
   "outputs": [],
   "source": [
    "def comments_to_csv(youtube, video_id, filename, total):\n",
    "       \n",
    "    try:\n",
    "        pbar = tqdm(total=total)\n",
    "        \n",
    "        with open(filename, 'w') as csvfile:\n",
    "            \n",
    "            comments, thread_id, token = get_comments_with_replies(youtube, video_id)\n",
    "            pbar.update(len(comments))\n",
    "            \n",
    "            writer = csv.DictWriter(csvfile, fieldnames=comments[0].keys())\n",
    "            writer.writeheader()\n",
    "            \n",
    "            for data in comments:\n",
    "                writer.writerow(data)\n",
    "                \n",
    "            while token:\n",
    "                comments, thread_id, token = get_comments_with_replies(youtube, video_id, \n",
    "                                                               token=token, thread_id=thread_id)\n",
    "                pbar.update(len(comments))\n",
    "                \n",
    "                for data in comments:\n",
    "                    writer.writerow(data)\n",
    "                    \n",
    "        pbar.close()\n",
    "                \n",
    "    except Exception as e: \n",
    "        print(e)\n",
    "        print(\"Fix me, mamma!\") "
   ]
  },
  {
   "cell_type": "code",
   "execution_count": null,
   "metadata": {},
   "outputs": [],
   "source": []
  },
  {
   "cell_type": "code",
   "execution_count": 26,
   "metadata": {},
   "outputs": [],
   "source": [
    "flow = flow_from_clientsecrets(CLIENT_SECRETS_FILE, scope=YOUTUBE_READ_WRITE_SSL_SCOPE,\n",
    "        message=MISSING_CLIENT_SECRETS_MESSAGE)\n",
    "\n",
    "storage = Storage(\"main.py-oauth2.json\")\n",
    "credentials = storage.get()\n",
    "\n",
    "with open(\"youtube-v3-discoverydocument.json\", \"r\") as f:\n",
    "    doc = f.read()\n",
    "    youtube = build_from_document(doc, http=credentials.authorize(httplib2.Http()))"
   ]
  },
  {
   "cell_type": "code",
   "execution_count": 27,
   "metadata": {},
   "outputs": [],
   "source": [
    "#gillette commercial\n",
    "video_id = 'koPmuEyP3a0'"
   ]
  },
  {
   "cell_type": "code",
   "execution_count": 28,
   "metadata": {},
   "outputs": [],
   "source": [
    "info = get_statistics_views(youtube, video_id)\n",
    "filename = '{}_info.csv'.format(video_id)\n",
    "\n",
    "with open(filename, 'w') as csvfile:\n",
    "\n",
    "    writer = csv.DictWriter(csvfile, fieldnames=info.keys())\n",
    "    writer.writeheader()\n",
    "    writer.writerow(info)"
   ]
  },
  {
   "cell_type": "markdown",
   "metadata": {},
   "source": [
    "comments_to_csv(youtube, video_id, '{}.csv'.format(video_id), total = int(info['commentCount']))"
   ]
  },
  {
   "cell_type": "code",
   "execution_count": null,
   "metadata": {},
   "outputs": [],
   "source": []
  }
 ],
 "metadata": {
  "kernelspec": {
   "display_name": "Python 3",
   "language": "python",
   "name": "python3"
  },
  "language_info": {
   "codemirror_mode": {
    "name": "ipython",
    "version": 3
   },
   "file_extension": ".py",
   "mimetype": "text/x-python",
   "name": "python",
   "nbconvert_exporter": "python",
   "pygments_lexer": "ipython3",
   "version": "3.7.2"
  }
 },
 "nbformat": 4,
 "nbformat_minor": 2
}
